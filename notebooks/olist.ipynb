{
 "cells": [
  {
   "cell_type": "code",
   "execution_count": 27,
   "id": "80edcbda-bcca-4d29-b2ee-3549aa82a060",
   "metadata": {},
   "outputs": [],
   "source": [
    "#load modules\n",
    "import pandas as pd\n",
    "import numpy as np\n",
    "import os\n",
    "import matplotlib.pyplot as plt\n",
    "import seaborn as sns"
   ]
  },
  {
   "cell_type": "markdown",
   "id": "cfc957c9-3151-457e-a6a7-0b8dec663c42",
   "metadata": {},
   "source": [
    "# Data Preparation\n"
   ]
  },
  {
   "cell_type": "code",
   "execution_count": 1,
   "id": "fcc27a1d-709f-42b0-ae75-f14a3cf31659",
   "metadata": {},
   "outputs": [],
   "source": [
    "# \"magic commands\" to enable autoreload of your imported packages\n",
    "%load_ext autoreload\n",
    "%autoreload 2"
   ]
  },
  {
   "cell_type": "markdown",
   "id": "0eb60960-cbbd-489b-a528-49f94ebdb55f",
   "metadata": {},
   "source": [
    "The goal is to load all 8 csvs each as a `pandas.DataFrame` in a single dict named `data` where each key is the name of the csv file, and each value is the dataframe created from the csv\n",
    "```python\n",
    "data = { \n",
    "    'sellers': DataFrame1,\n",
    "    'orders': DataFrame2,\n",
    "    ...\n",
    "    }\n",
    "```"
   ]
  },
  {
   "cell_type": "markdown",
   "id": "63bbb96c-e6dc-4bf2-a06e-8cbfc6c5fb75",
   "metadata": {},
   "source": [
    "### 1. Create the variable `csv_path`, which stores the path to your csv folder as a string"
   ]
  },
  {
   "cell_type": "code",
   "execution_count": 2,
   "id": "403d23b7-282f-4bbb-833d-a52756208f17",
   "metadata": {},
   "outputs": [
    {
     "data": {
      "text/plain": [
       "'/home/antonio/code/antoniovmonge/olist/notebooks'"
      ]
     },
     "execution_count": 2,
     "metadata": {},
     "output_type": "execute_result"
    }
   ],
   "source": [
    "# Check your current working directory using `os.getcwd()` below \n",
    "import os\n",
    "os.getcwd()"
   ]
  },
  {
   "cell_type": "code",
   "execution_count": 3,
   "id": "ddc97147-cf0c-422c-b6e6-08bc2e26401a",
   "metadata": {},
   "outputs": [
    {
     "data": {
      "text/plain": [
       "'../raw_data/csv'"
      ]
     },
     "execution_count": 3,
     "metadata": {},
     "output_type": "execute_result"
    }
   ],
   "source": [
    "csv_path = os.path.join('..','raw_data','csv')\n",
    "csv_path"
   ]
  },
  {
   "cell_type": "code",
   "execution_count": 4,
   "id": "2da40954-9998-4172-b81e-151e94b17320",
   "metadata": {},
   "outputs": [
    {
     "data": {
      "text/html": [
       "<div>\n",
       "<style scoped>\n",
       "    .dataframe tbody tr th:only-of-type {\n",
       "        vertical-align: middle;\n",
       "    }\n",
       "\n",
       "    .dataframe tbody tr th {\n",
       "        vertical-align: top;\n",
       "    }\n",
       "\n",
       "    .dataframe thead th {\n",
       "        text-align: right;\n",
       "    }\n",
       "</style>\n",
       "<table border=\"1\" class=\"dataframe\">\n",
       "  <thead>\n",
       "    <tr style=\"text-align: right;\">\n",
       "      <th></th>\n",
       "      <th>seller_id</th>\n",
       "      <th>seller_zip_code_prefix</th>\n",
       "      <th>seller_city</th>\n",
       "      <th>seller_state</th>\n",
       "    </tr>\n",
       "  </thead>\n",
       "  <tbody>\n",
       "    <tr>\n",
       "      <th>0</th>\n",
       "      <td>3442f8959a84dea7ee197c632cb2df15</td>\n",
       "      <td>13023</td>\n",
       "      <td>campinas</td>\n",
       "      <td>SP</td>\n",
       "    </tr>\n",
       "    <tr>\n",
       "      <th>1</th>\n",
       "      <td>d1b65fc7debc3361ea86b5f14c68d2e2</td>\n",
       "      <td>13844</td>\n",
       "      <td>mogi guacu</td>\n",
       "      <td>SP</td>\n",
       "    </tr>\n",
       "    <tr>\n",
       "      <th>2</th>\n",
       "      <td>ce3ad9de960102d0677a81f5d0bb7b2d</td>\n",
       "      <td>20031</td>\n",
       "      <td>rio de janeiro</td>\n",
       "      <td>RJ</td>\n",
       "    </tr>\n",
       "    <tr>\n",
       "      <th>3</th>\n",
       "      <td>c0f3eea2e14555b6faeea3dd58c1b1c3</td>\n",
       "      <td>4195</td>\n",
       "      <td>sao paulo</td>\n",
       "      <td>SP</td>\n",
       "    </tr>\n",
       "    <tr>\n",
       "      <th>4</th>\n",
       "      <td>51a04a8a6bdcb23deccc82b0b80742cf</td>\n",
       "      <td>12914</td>\n",
       "      <td>braganca paulista</td>\n",
       "      <td>SP</td>\n",
       "    </tr>\n",
       "  </tbody>\n",
       "</table>\n",
       "</div>"
      ],
      "text/plain": [
       "                          seller_id  seller_zip_code_prefix  \\\n",
       "0  3442f8959a84dea7ee197c632cb2df15                   13023   \n",
       "1  d1b65fc7debc3361ea86b5f14c68d2e2                   13844   \n",
       "2  ce3ad9de960102d0677a81f5d0bb7b2d                   20031   \n",
       "3  c0f3eea2e14555b6faeea3dd58c1b1c3                    4195   \n",
       "4  51a04a8a6bdcb23deccc82b0b80742cf                   12914   \n",
       "\n",
       "         seller_city seller_state  \n",
       "0           campinas           SP  \n",
       "1         mogi guacu           SP  \n",
       "2     rio de janeiro           RJ  \n",
       "3          sao paulo           SP  \n",
       "4  braganca paulista           SP  "
      ]
     },
     "execution_count": 4,
     "metadata": {},
     "output_type": "execute_result"
    }
   ],
   "source": [
    "# Testing code below\n",
    "import pandas as pd\n",
    "pd.read_csv(os.path.join(csv_path, 'olist_sellers_dataset.csv')).head()"
   ]
  },
  {
   "cell_type": "markdown",
   "id": "70b3a24c-40a3-4bb3-b8f5-a7a21bf1e7c5",
   "metadata": {},
   "source": [
    "### 2. Create the list `file_names` containing all csv file names in the csv directory"
   ]
  },
  {
   "cell_type": "code",
   "execution_count": 5,
   "id": "0982a427-b512-4898-8f53-9c9dcf0bd4a7",
   "metadata": {},
   "outputs": [
    {
     "data": {
      "text/plain": [
       "['olist_sellers_dataset.csv',\n",
       " 'olist_order_reviews_dataset.csv',\n",
       " 'olist_order_items_dataset.csv',\n",
       " 'olist_customers_dataset.csv',\n",
       " 'olist_orders_dataset.csv',\n",
       " 'olist_order_payments_dataset.csv',\n",
       " 'product_category_name_translation.csv',\n",
       " 'olist_products_dataset.csv',\n",
       " 'olist_geolocation_dataset.csv']"
      ]
     },
     "execution_count": 5,
     "metadata": {},
     "output_type": "execute_result"
    }
   ],
   "source": [
    "file_names = [f for f in os.listdir(csv_path) if f.endswith('.csv')]\n",
    "file_names"
   ]
  },
  {
   "cell_type": "markdown",
   "id": "31fc6b6e-6f1a-4e65-b918-2a84f578f0c3",
   "metadata": {},
   "source": [
    "### 3.  Create the list of dict key `key_names` \n",
    "Starting from file_names and:\n",
    "- Removing its suffix \".csv\" when it exists\n",
    "- Removing its suffix \"_dataset.csv\" when it exists\n",
    "- Removing its prefix \"olist_\" when it exists"
   ]
  },
  {
   "cell_type": "code",
   "execution_count": 6,
   "id": "e9ca1fee-d684-44da-a1fe-89670924fc35",
   "metadata": {},
   "outputs": [
    {
     "data": {
      "text/plain": [
       "['sellers',\n",
       " 'order_reviews',\n",
       " 'order_items',\n",
       " 'customers',\n",
       " 'orders',\n",
       " 'order_payments',\n",
       " 'product_category_name_translation',\n",
       " 'products',\n",
       " 'geolocation']"
      ]
     },
     "execution_count": 6,
     "metadata": {},
     "output_type": "execute_result"
    }
   ],
   "source": [
    "key_names = [key_name\n",
    "    .replace('olist_','')\n",
    "    .replace('_dataset','')\n",
    "    .replace('.csv','')\n",
    "    for key_name in file_names]\n",
    "key_names"
   ]
  },
  {
   "cell_type": "markdown",
   "id": "50eb5f29-fab0-499e-83f4-e8d5bd378e9d",
   "metadata": {},
   "source": [
    "### 4. Construct the dictionary `data`\n",
    "\n",
    "```python\n",
    "data = { \n",
    "    'sellers': DataFrame1,\n",
    "    'orders': DataFrame2,\n",
    "    'order_items': DataFrame3,\n",
    "    ...\n",
    "    }\n",
    "```"
   ]
  },
  {
   "cell_type": "code",
   "execution_count": 7,
   "id": "6ae1fa1f-6e14-4310-89be-d023b8c2762d",
   "metadata": {},
   "outputs": [
    {
     "data": {
      "text/plain": [
       "dict_keys(['sellers', 'order_reviews', 'order_items', 'customers', 'orders', 'order_payments', 'product_category_name_translation', 'products', 'geolocation'])"
      ]
     },
     "execution_count": 7,
     "metadata": {},
     "output_type": "execute_result"
    }
   ],
   "source": [
    "data = {}\n",
    "for k,f in zip(key_names, file_names):\n",
    "    data[k] = pd.read_csv(os.path.join(csv_path, f))\n",
    "data.keys()"
   ]
  },
  {
   "cell_type": "markdown",
   "id": "d28a6b40-6130-4bd6-acfb-3458248054d7",
   "metadata": {},
   "source": [
    "### 5. Implement the method `get_data()` in `olist/data.py`\n",
    "\n",
    "It should return the dictionary `data` upon calling it as per below\n",
    "\n",
    "```python\n",
    "from olist.data import Olist\n",
    "Olist().get_data()\n",
    "```"
   ]
  },
  {
   "cell_type": "code",
   "execution_count": 8,
   "id": "85016bf1-c29c-485f-addb-5ead9f8f58c0",
   "metadata": {},
   "outputs": [],
   "source": [
    "# from olist.data import Olist\n",
    "# Olist().get_data()['sellers'].head()"
   ]
  },
  {
   "cell_type": "markdown",
   "id": "6810ce09-934e-4241-ba92-ef86359b0c27",
   "metadata": {},
   "source": [
    "# EXPLORATORY DATA ANALYSIS"
   ]
  },
  {
   "cell_type": "code",
   "execution_count": 9,
   "id": "b674e2a2-3d3a-443c-83f7-50db7009c562",
   "metadata": {},
   "outputs": [],
   "source": [
    "from olist.data import Olist\n",
    "data = Olist().get_data()"
   ]
  },
  {
   "cell_type": "markdown",
   "id": "e157a567",
   "metadata": {},
   "source": [
    "### 1 - Run an exploratory analysis with [pandas profiling](https://github.com/pandas-profiling/pandas-profiling)"
   ]
  },
  {
   "cell_type": "code",
   "execution_count": 10,
   "id": "607ab7ca",
   "metadata": {},
   "outputs": [],
   "source": [
    "import pandas_profiling\n",
    "datasets_to_profile = ['orders', 'products', 'sellers', 'customers', 'order_reviews', 'order_items']"
   ]
  },
  {
   "cell_type": "code",
   "execution_count": 11,
   "id": "d6e2e2c3",
   "metadata": {},
   "outputs": [
    {
     "name": "stdout",
     "output_type": "stream",
     "text": [
      "exporting: orders\n"
     ]
    },
    {
     "data": {
      "application/vnd.jupyter.widget-view+json": {
       "model_id": "c2d6b53a41df4582b0acac8aaba3474d",
       "version_major": 2,
       "version_minor": 0
      },
      "text/plain": [
       "Summarize dataset:   0%|          | 0/21 [00:00<?, ?it/s]"
      ]
     },
     "metadata": {},
     "output_type": "display_data"
    },
    {
     "data": {
      "application/vnd.jupyter.widget-view+json": {
       "model_id": "fb829024332849c58848e3981d6b9392",
       "version_major": 2,
       "version_minor": 0
      },
      "text/plain": [
       "Generate report structure:   0%|          | 0/1 [00:00<?, ?it/s]"
      ]
     },
     "metadata": {},
     "output_type": "display_data"
    },
    {
     "data": {
      "application/vnd.jupyter.widget-view+json": {
       "model_id": "3a0df887981541c48bae8e99b83317cc",
       "version_major": 2,
       "version_minor": 0
      },
      "text/plain": [
       "Render HTML:   0%|          | 0/1 [00:00<?, ?it/s]"
      ]
     },
     "metadata": {},
     "output_type": "display_data"
    },
    {
     "data": {
      "application/vnd.jupyter.widget-view+json": {
       "model_id": "904876b7ce144466b215e3c9e0afb37f",
       "version_major": 2,
       "version_minor": 0
      },
      "text/plain": [
       "Export report to file:   0%|          | 0/1 [00:00<?, ?it/s]"
      ]
     },
     "metadata": {},
     "output_type": "display_data"
    },
    {
     "name": "stdout",
     "output_type": "stream",
     "text": [
      "exporting: products\n"
     ]
    },
    {
     "data": {
      "application/vnd.jupyter.widget-view+json": {
       "model_id": "8caced99feda4b07815ecc39cd2d4180",
       "version_major": 2,
       "version_minor": 0
      },
      "text/plain": [
       "Summarize dataset:   0%|          | 0/22 [00:00<?, ?it/s]"
      ]
     },
     "metadata": {},
     "output_type": "display_data"
    },
    {
     "data": {
      "application/vnd.jupyter.widget-view+json": {
       "model_id": "1d36b290b8f64e8b8278744bd2deef16",
       "version_major": 2,
       "version_minor": 0
      },
      "text/plain": [
       "Generate report structure:   0%|          | 0/1 [00:00<?, ?it/s]"
      ]
     },
     "metadata": {},
     "output_type": "display_data"
    },
    {
     "data": {
      "application/vnd.jupyter.widget-view+json": {
       "model_id": "16391c89deb748b7a5b250ea95f7c7aa",
       "version_major": 2,
       "version_minor": 0
      },
      "text/plain": [
       "Render HTML:   0%|          | 0/1 [00:00<?, ?it/s]"
      ]
     },
     "metadata": {},
     "output_type": "display_data"
    },
    {
     "data": {
      "application/vnd.jupyter.widget-view+json": {
       "model_id": "aa523bac3f5f49d6a5f33b9742be2864",
       "version_major": 2,
       "version_minor": 0
      },
      "text/plain": [
       "Export report to file:   0%|          | 0/1 [00:00<?, ?it/s]"
      ]
     },
     "metadata": {},
     "output_type": "display_data"
    },
    {
     "name": "stdout",
     "output_type": "stream",
     "text": [
      "exporting: sellers\n"
     ]
    },
    {
     "data": {
      "application/vnd.jupyter.widget-view+json": {
       "model_id": "3bb3e9cec6154afcab89692ae273af03",
       "version_major": 2,
       "version_minor": 0
      },
      "text/plain": [
       "Summarize dataset:   0%|          | 0/17 [00:00<?, ?it/s]"
      ]
     },
     "metadata": {},
     "output_type": "display_data"
    },
    {
     "data": {
      "application/vnd.jupyter.widget-view+json": {
       "model_id": "fa28d1c2b57943b380de74275264ab49",
       "version_major": 2,
       "version_minor": 0
      },
      "text/plain": [
       "Generate report structure:   0%|          | 0/1 [00:00<?, ?it/s]"
      ]
     },
     "metadata": {},
     "output_type": "display_data"
    },
    {
     "data": {
      "application/vnd.jupyter.widget-view+json": {
       "model_id": "cccb4e24e58040a09e255cc4f1b1a192",
       "version_major": 2,
       "version_minor": 0
      },
      "text/plain": [
       "Render HTML:   0%|          | 0/1 [00:00<?, ?it/s]"
      ]
     },
     "metadata": {},
     "output_type": "display_data"
    },
    {
     "data": {
      "application/vnd.jupyter.widget-view+json": {
       "model_id": "4850870d0274427bb7767a940303a83a",
       "version_major": 2,
       "version_minor": 0
      },
      "text/plain": [
       "Export report to file:   0%|          | 0/1 [00:00<?, ?it/s]"
      ]
     },
     "metadata": {},
     "output_type": "display_data"
    },
    {
     "name": "stdout",
     "output_type": "stream",
     "text": [
      "exporting: customers\n"
     ]
    },
    {
     "data": {
      "application/vnd.jupyter.widget-view+json": {
       "model_id": "d4f55788f0d94f958f107f7a9a2ceb72",
       "version_major": 2,
       "version_minor": 0
      },
      "text/plain": [
       "Summarize dataset:   0%|          | 0/18 [00:00<?, ?it/s]"
      ]
     },
     "metadata": {},
     "output_type": "display_data"
    },
    {
     "data": {
      "application/vnd.jupyter.widget-view+json": {
       "model_id": "26969b41a62e4e9190c36badd8de8749",
       "version_major": 2,
       "version_minor": 0
      },
      "text/plain": [
       "Generate report structure:   0%|          | 0/1 [00:00<?, ?it/s]"
      ]
     },
     "metadata": {},
     "output_type": "display_data"
    },
    {
     "data": {
      "application/vnd.jupyter.widget-view+json": {
       "model_id": "1245ed2e52c944ff811a550ba28337d2",
       "version_major": 2,
       "version_minor": 0
      },
      "text/plain": [
       "Render HTML:   0%|          | 0/1 [00:00<?, ?it/s]"
      ]
     },
     "metadata": {},
     "output_type": "display_data"
    },
    {
     "data": {
      "application/vnd.jupyter.widget-view+json": {
       "model_id": "c85f29924b904019b2d192c038ad26de",
       "version_major": 2,
       "version_minor": 0
      },
      "text/plain": [
       "Export report to file:   0%|          | 0/1 [00:00<?, ?it/s]"
      ]
     },
     "metadata": {},
     "output_type": "display_data"
    },
    {
     "name": "stdout",
     "output_type": "stream",
     "text": [
      "exporting: order_reviews\n"
     ]
    },
    {
     "data": {
      "application/vnd.jupyter.widget-view+json": {
       "model_id": "3f47c22d3d7c404a90b0cbec9ce467ce",
       "version_major": 2,
       "version_minor": 0
      },
      "text/plain": [
       "Summarize dataset:   0%|          | 0/20 [00:00<?, ?it/s]"
      ]
     },
     "metadata": {},
     "output_type": "display_data"
    },
    {
     "data": {
      "application/vnd.jupyter.widget-view+json": {
       "model_id": "d0973bba980c48108e9a13d0508e2ca3",
       "version_major": 2,
       "version_minor": 0
      },
      "text/plain": [
       "Generate report structure:   0%|          | 0/1 [00:00<?, ?it/s]"
      ]
     },
     "metadata": {},
     "output_type": "display_data"
    },
    {
     "data": {
      "application/vnd.jupyter.widget-view+json": {
       "model_id": "71d07d4a1e2e4848b1320ad402104a00",
       "version_major": 2,
       "version_minor": 0
      },
      "text/plain": [
       "Render HTML:   0%|          | 0/1 [00:00<?, ?it/s]"
      ]
     },
     "metadata": {},
     "output_type": "display_data"
    },
    {
     "data": {
      "application/vnd.jupyter.widget-view+json": {
       "model_id": "11563a6ab98844318b5967d130024078",
       "version_major": 2,
       "version_minor": 0
      },
      "text/plain": [
       "Export report to file:   0%|          | 0/1 [00:00<?, ?it/s]"
      ]
     },
     "metadata": {},
     "output_type": "display_data"
    },
    {
     "name": "stdout",
     "output_type": "stream",
     "text": [
      "exporting: order_items\n"
     ]
    },
    {
     "data": {
      "application/vnd.jupyter.widget-view+json": {
       "model_id": "a69a50605ff9407395cda6add1c312cd",
       "version_major": 2,
       "version_minor": 0
      },
      "text/plain": [
       "Summarize dataset:   0%|          | 0/20 [00:00<?, ?it/s]"
      ]
     },
     "metadata": {},
     "output_type": "display_data"
    },
    {
     "data": {
      "application/vnd.jupyter.widget-view+json": {
       "model_id": "502e588794de435bb3ad713db02a38b9",
       "version_major": 2,
       "version_minor": 0
      },
      "text/plain": [
       "Generate report structure:   0%|          | 0/1 [00:00<?, ?it/s]"
      ]
     },
     "metadata": {},
     "output_type": "display_data"
    },
    {
     "data": {
      "application/vnd.jupyter.widget-view+json": {
       "model_id": "5b9c589d1bd34975bcbe68993aeb9551",
       "version_major": 2,
       "version_minor": 0
      },
      "text/plain": [
       "Render HTML:   0%|          | 0/1 [00:00<?, ?it/s]"
      ]
     },
     "metadata": {},
     "output_type": "display_data"
    },
    {
     "data": {
      "application/vnd.jupyter.widget-view+json": {
       "model_id": "b117c8c76eb941e4b97ea8ed931309fa",
       "version_major": 2,
       "version_minor": 0
      },
      "text/plain": [
       "Export report to file:   0%|          | 0/1 [00:00<?, ?it/s]"
      ]
     },
     "metadata": {},
     "output_type": "display_data"
    }
   ],
   "source": [
    "# Creating and saving one html report per dataset to profile\n",
    "for d in datasets_to_profile:\n",
    "    print('exporting: '+d)\n",
    "    profile = data[d].profile_report(title='Report for '+d)\n",
    "    profile.to_file(output_file=\"../reports/\"+d+'.html');"
   ]
  },
  {
   "cell_type": "markdown",
   "id": "03d9b114-4b5b-4f1a-982c-f888773fc736",
   "metadata": {},
   "source": [
    "### 2 - Create a matching table"
   ]
  },
  {
   "cell_type": "code",
   "execution_count": 12,
   "id": "6ffa7cab-595b-4e3a-aa3d-b170c131e9a9",
   "metadata": {},
   "outputs": [],
   "source": [
    "columns_matching_table = [\n",
    "    'order_id',\n",
    "    'review_id',\n",
    "    'customer_id',\n",
    "    'product_id',\n",
    "    'seller_id',\n",
    "]"
   ]
  },
  {
   "cell_type": "markdown",
   "id": "70309154-a576-4cea-aab8-fa957243eec9",
   "metadata": {},
   "source": [
    "Select only the columns of interest in the various dataframes of interest, before proceeding to any merge"
   ]
  },
  {
   "cell_type": "code",
   "execution_count": 13,
   "id": "1a2afcef-8c29-4f78-8e3c-10d856a53be8",
   "metadata": {},
   "outputs": [],
   "source": [
    "orders = data['orders'][['customer_id', 'order_id']]\n",
    "reviews = data['order_reviews'][['order_id', 'review_id']]\n",
    "items = data['order_items'][['order_id', 'product_id','seller_id']]"
   ]
  },
  {
   "cell_type": "markdown",
   "id": "dfb15c77-3ac8-4160-826a-ad904bdae787",
   "metadata": {},
   "source": [
    "Inspect the cardinality of each DataFrame using pd.DataFrame.shape and pd.Series.nunique()"
   ]
  },
  {
   "cell_type": "code",
   "execution_count": 17,
   "id": "ec618384-0ce5-4819-8373-7f9961679a7d",
   "metadata": {},
   "outputs": [
    {
     "name": "stdout",
     "output_type": "stream",
     "text": [
      "orders: (99441, 2) 99441 unique customer_ids, and 99441 unique order_ids\n",
      "reviews:  (100000, 2) 99441 unique order_ids and 99173 unique reviews\n",
      "items:  (112650, 3) 98666 unique order_ids, 32951 unique product_ids, and 3095 unique seller_ids\n"
     ]
    }
   ],
   "source": [
    "print('orders:', orders.shape, orders.customer_id.nunique(), 'unique customer_ids, and', orders.order_id.nunique(), 'unique order_ids')\n",
    "print('reviews: ', reviews.shape, reviews.order_id.nunique(), 'unique order_ids and', reviews.review_id.nunique(), 'unique reviews' )\n",
    "print('items: ', items.shape, items.order_id.nunique(), 'unique order_ids,', items.product_id.nunique(), \n",
    "      'unique product_ids, and', items.seller_id.nunique(), 'unique seller_ids')"
   ]
  },
  {
   "cell_type": "markdown",
   "id": "14673558-cf4f-48da-9f0e-e37c75bf7e3c",
   "metadata": {},
   "source": [
    "#### MERGING DataFrames"
   ]
  },
  {
   "cell_type": "code",
   "execution_count": 18,
   "id": "1c9e2daa-2851-4f64-8731-724d07ee4ba3",
   "metadata": {},
   "outputs": [
    {
     "data": {
      "text/html": [
       "<div>\n",
       "<style scoped>\n",
       "    .dataframe tbody tr th:only-of-type {\n",
       "        vertical-align: middle;\n",
       "    }\n",
       "\n",
       "    .dataframe tbody tr th {\n",
       "        vertical-align: top;\n",
       "    }\n",
       "\n",
       "    .dataframe thead th {\n",
       "        text-align: right;\n",
       "    }\n",
       "</style>\n",
       "<table border=\"1\" class=\"dataframe\">\n",
       "  <thead>\n",
       "    <tr style=\"text-align: right;\">\n",
       "      <th></th>\n",
       "      <th>customer_id</th>\n",
       "      <th>order_id</th>\n",
       "      <th>review_id</th>\n",
       "      <th>product_id</th>\n",
       "      <th>seller_id</th>\n",
       "    </tr>\n",
       "  </thead>\n",
       "  <tbody>\n",
       "    <tr>\n",
       "      <th>0</th>\n",
       "      <td>9ef432eb6251297304e76186b10a928d</td>\n",
       "      <td>e481f51cbdc54678b7cc49136f2d6af7</td>\n",
       "      <td>a54f0611adc9ed256b57ede6b6eb5114</td>\n",
       "      <td>87285b34884572647811a353c7ac498a</td>\n",
       "      <td>3504c0cb71d7fa48d967e0e4c94d59d9</td>\n",
       "    </tr>\n",
       "    <tr>\n",
       "      <th>1</th>\n",
       "      <td>b0830fb4747a6c6d20dea0b8c802d7ef</td>\n",
       "      <td>53cdb2fc8bc7dce0b6741e2150273451</td>\n",
       "      <td>8d5266042046a06655c8db133d120ba5</td>\n",
       "      <td>595fac2a385ac33a80bd5114aec74eb8</td>\n",
       "      <td>289cdb325fb7e7f891c38608bf9e0962</td>\n",
       "    </tr>\n",
       "    <tr>\n",
       "      <th>2</th>\n",
       "      <td>41ce2a54c0b03bf3443c3d931a367089</td>\n",
       "      <td>47770eb9100c2d0c44946d9cf07ec65d</td>\n",
       "      <td>e73b67b67587f7644d5bd1a52deb1b01</td>\n",
       "      <td>aa4383b373c6aca5d8797843e5594415</td>\n",
       "      <td>4869f7a5dfa277a7dca6462dcf3b52b2</td>\n",
       "    </tr>\n",
       "    <tr>\n",
       "      <th>3</th>\n",
       "      <td>f88197465ea7920adcdbec7375364d82</td>\n",
       "      <td>949d5b44dbf5de918fe9c16f97b45f8a</td>\n",
       "      <td>359d03e676b3c069f62cadba8dd3f6e8</td>\n",
       "      <td>d0b61bfb1de832b15ba9d266ca96e5b0</td>\n",
       "      <td>66922902710d126a0e7d26b0e3805106</td>\n",
       "    </tr>\n",
       "    <tr>\n",
       "      <th>4</th>\n",
       "      <td>8ab97904e6daea8866dbdbc4fb7aad2c</td>\n",
       "      <td>ad21c59c0840e6cb83a9ceb5573f8159</td>\n",
       "      <td>e50934924e227544ba8246aeb3770dd4</td>\n",
       "      <td>65266b2da20d04dbe00c5c2d3bb7859e</td>\n",
       "      <td>2c9e548be18521d1c43cde1c582c6de8</td>\n",
       "    </tr>\n",
       "    <tr>\n",
       "      <th>...</th>\n",
       "      <td>...</td>\n",
       "      <td>...</td>\n",
       "      <td>...</td>\n",
       "      <td>...</td>\n",
       "      <td>...</td>\n",
       "    </tr>\n",
       "    <tr>\n",
       "      <th>114095</th>\n",
       "      <td>1fca14ff2861355f6e5f14306ff977a7</td>\n",
       "      <td>63943bddc261676b46f01ca7ac2f7bd8</td>\n",
       "      <td>29bb71b2760d0f876dfa178a76bc4734</td>\n",
       "      <td>f1d4ce8c6dd66c47bbaa8c6781c2a923</td>\n",
       "      <td>1f9ab4708f3056ede07124aad39a2554</td>\n",
       "    </tr>\n",
       "    <tr>\n",
       "      <th>114096</th>\n",
       "      <td>1aa71eb042121263aafbe80c1b562c9c</td>\n",
       "      <td>83c1379a015df1e13d02aae0204711ab</td>\n",
       "      <td>371579771219f6db2d830d50805977bb</td>\n",
       "      <td>b80910977a37536adeddd63663f916ad</td>\n",
       "      <td>d50d79cb34e38265a8649c383dcffd48</td>\n",
       "    </tr>\n",
       "    <tr>\n",
       "      <th>114097</th>\n",
       "      <td>b331b74b18dc79bcdf6532d51e1637c1</td>\n",
       "      <td>11c177c8e97725db2631073c19f07b62</td>\n",
       "      <td>8ab6855b9fe9b812cd03a480a25058a1</td>\n",
       "      <td>d1c427060a0f73f6b889a5c7c61f2ac4</td>\n",
       "      <td>a1043bafd471dff536d0c462352beb48</td>\n",
       "    </tr>\n",
       "    <tr>\n",
       "      <th>114098</th>\n",
       "      <td>b331b74b18dc79bcdf6532d51e1637c1</td>\n",
       "      <td>11c177c8e97725db2631073c19f07b62</td>\n",
       "      <td>8ab6855b9fe9b812cd03a480a25058a1</td>\n",
       "      <td>d1c427060a0f73f6b889a5c7c61f2ac4</td>\n",
       "      <td>a1043bafd471dff536d0c462352beb48</td>\n",
       "    </tr>\n",
       "    <tr>\n",
       "      <th>114099</th>\n",
       "      <td>edb027a75a1449115f6b43211ae02a24</td>\n",
       "      <td>66dea50a8b16d9b4dee7af250b4be1a5</td>\n",
       "      <td>dc9c59b4688062c25758c2be4cafc523</td>\n",
       "      <td>006619bbed68b000c8ba3f8725d5409e</td>\n",
       "      <td>ececbfcff9804a2d6b40f589df8eef2b</td>\n",
       "    </tr>\n",
       "  </tbody>\n",
       "</table>\n",
       "<p>114100 rows × 5 columns</p>\n",
       "</div>"
      ],
      "text/plain": [
       "                             customer_id                          order_id  \\\n",
       "0       9ef432eb6251297304e76186b10a928d  e481f51cbdc54678b7cc49136f2d6af7   \n",
       "1       b0830fb4747a6c6d20dea0b8c802d7ef  53cdb2fc8bc7dce0b6741e2150273451   \n",
       "2       41ce2a54c0b03bf3443c3d931a367089  47770eb9100c2d0c44946d9cf07ec65d   \n",
       "3       f88197465ea7920adcdbec7375364d82  949d5b44dbf5de918fe9c16f97b45f8a   \n",
       "4       8ab97904e6daea8866dbdbc4fb7aad2c  ad21c59c0840e6cb83a9ceb5573f8159   \n",
       "...                                  ...                               ...   \n",
       "114095  1fca14ff2861355f6e5f14306ff977a7  63943bddc261676b46f01ca7ac2f7bd8   \n",
       "114096  1aa71eb042121263aafbe80c1b562c9c  83c1379a015df1e13d02aae0204711ab   \n",
       "114097  b331b74b18dc79bcdf6532d51e1637c1  11c177c8e97725db2631073c19f07b62   \n",
       "114098  b331b74b18dc79bcdf6532d51e1637c1  11c177c8e97725db2631073c19f07b62   \n",
       "114099  edb027a75a1449115f6b43211ae02a24  66dea50a8b16d9b4dee7af250b4be1a5   \n",
       "\n",
       "                               review_id                        product_id  \\\n",
       "0       a54f0611adc9ed256b57ede6b6eb5114  87285b34884572647811a353c7ac498a   \n",
       "1       8d5266042046a06655c8db133d120ba5  595fac2a385ac33a80bd5114aec74eb8   \n",
       "2       e73b67b67587f7644d5bd1a52deb1b01  aa4383b373c6aca5d8797843e5594415   \n",
       "3       359d03e676b3c069f62cadba8dd3f6e8  d0b61bfb1de832b15ba9d266ca96e5b0   \n",
       "4       e50934924e227544ba8246aeb3770dd4  65266b2da20d04dbe00c5c2d3bb7859e   \n",
       "...                                  ...                               ...   \n",
       "114095  29bb71b2760d0f876dfa178a76bc4734  f1d4ce8c6dd66c47bbaa8c6781c2a923   \n",
       "114096  371579771219f6db2d830d50805977bb  b80910977a37536adeddd63663f916ad   \n",
       "114097  8ab6855b9fe9b812cd03a480a25058a1  d1c427060a0f73f6b889a5c7c61f2ac4   \n",
       "114098  8ab6855b9fe9b812cd03a480a25058a1  d1c427060a0f73f6b889a5c7c61f2ac4   \n",
       "114099  dc9c59b4688062c25758c2be4cafc523  006619bbed68b000c8ba3f8725d5409e   \n",
       "\n",
       "                               seller_id  \n",
       "0       3504c0cb71d7fa48d967e0e4c94d59d9  \n",
       "1       289cdb325fb7e7f891c38608bf9e0962  \n",
       "2       4869f7a5dfa277a7dca6462dcf3b52b2  \n",
       "3       66922902710d126a0e7d26b0e3805106  \n",
       "4       2c9e548be18521d1c43cde1c582c6de8  \n",
       "...                                  ...  \n",
       "114095  1f9ab4708f3056ede07124aad39a2554  \n",
       "114096  d50d79cb34e38265a8649c383dcffd48  \n",
       "114097  a1043bafd471dff536d0c462352beb48  \n",
       "114098  a1043bafd471dff536d0c462352beb48  \n",
       "114099  ececbfcff9804a2d6b40f589df8eef2b  \n",
       "\n",
       "[114100 rows x 5 columns]"
      ]
     },
     "execution_count": 18,
     "metadata": {},
     "output_type": "execute_result"
    }
   ],
   "source": [
    "matching_table = orders.merge(reviews, on='order_id', how='outer').merge(items, on='order_id', how='outer')\n",
    "matching_table"
   ]
  },
  {
   "cell_type": "markdown",
   "id": "f8de21b8-62ca-47a2-bbf9-9b3c07d33e20",
   "metadata": {},
   "source": [
    "##### Inspecting the cardinality of the final DataFrame"
   ]
  },
  {
   "cell_type": "code",
   "execution_count": 24,
   "id": "a17612d9-f467-426a-881e-3d3b219f2073",
   "metadata": {},
   "outputs": [
    {
     "name": "stdout",
     "output_type": "stream",
     "text": [
      "shape: (114100, 5)\n",
      "unique values:\n",
      "customer_id    99441\n",
      "order_id       99441\n",
      "review_id      99173\n",
      "product_id     32951\n",
      "seller_id       3095\n",
      "dtype: int64\n"
     ]
    }
   ],
   "source": [
    "print('shape:',matching_table.shape)\n",
    "print('unique values:')\n",
    "print(matching_table.nunique())"
   ]
  },
  {
   "cell_type": "markdown",
   "id": "db01cedc-b2d4-45ef-b2c2-79c2c69391ce",
   "metadata": {},
   "source": [
    "#### Copy logic to data.py"
   ]
  },
  {
   "cell_type": "markdown",
   "id": "a6365cb2-134c-44a6-a406-454a9a6c0a15",
   "metadata": {},
   "source": [
    "Test functions"
   ]
  },
  {
   "cell_type": "code",
   "execution_count": 33,
   "id": "7add317c-ced6-4e47-b233-c35f16e805c4",
   "metadata": {},
   "outputs": [
    {
     "data": {
      "text/html": [
       "<div>\n",
       "<style scoped>\n",
       "    .dataframe tbody tr th:only-of-type {\n",
       "        vertical-align: middle;\n",
       "    }\n",
       "\n",
       "    .dataframe tbody tr th {\n",
       "        vertical-align: top;\n",
       "    }\n",
       "\n",
       "    .dataframe thead th {\n",
       "        text-align: right;\n",
       "    }\n",
       "</style>\n",
       "<table border=\"1\" class=\"dataframe\">\n",
       "  <thead>\n",
       "    <tr style=\"text-align: right;\">\n",
       "      <th></th>\n",
       "      <th>customer_id</th>\n",
       "      <th>order_id</th>\n",
       "      <th>review_id</th>\n",
       "      <th>product_id</th>\n",
       "      <th>seller_id</th>\n",
       "    </tr>\n",
       "  </thead>\n",
       "  <tbody>\n",
       "    <tr>\n",
       "      <th>0</th>\n",
       "      <td>9ef432eb6251297304e76186b10a928d</td>\n",
       "      <td>e481f51cbdc54678b7cc49136f2d6af7</td>\n",
       "      <td>a54f0611adc9ed256b57ede6b6eb5114</td>\n",
       "      <td>87285b34884572647811a353c7ac498a</td>\n",
       "      <td>3504c0cb71d7fa48d967e0e4c94d59d9</td>\n",
       "    </tr>\n",
       "    <tr>\n",
       "      <th>1</th>\n",
       "      <td>b0830fb4747a6c6d20dea0b8c802d7ef</td>\n",
       "      <td>53cdb2fc8bc7dce0b6741e2150273451</td>\n",
       "      <td>8d5266042046a06655c8db133d120ba5</td>\n",
       "      <td>595fac2a385ac33a80bd5114aec74eb8</td>\n",
       "      <td>289cdb325fb7e7f891c38608bf9e0962</td>\n",
       "    </tr>\n",
       "    <tr>\n",
       "      <th>2</th>\n",
       "      <td>41ce2a54c0b03bf3443c3d931a367089</td>\n",
       "      <td>47770eb9100c2d0c44946d9cf07ec65d</td>\n",
       "      <td>e73b67b67587f7644d5bd1a52deb1b01</td>\n",
       "      <td>aa4383b373c6aca5d8797843e5594415</td>\n",
       "      <td>4869f7a5dfa277a7dca6462dcf3b52b2</td>\n",
       "    </tr>\n",
       "    <tr>\n",
       "      <th>3</th>\n",
       "      <td>f88197465ea7920adcdbec7375364d82</td>\n",
       "      <td>949d5b44dbf5de918fe9c16f97b45f8a</td>\n",
       "      <td>359d03e676b3c069f62cadba8dd3f6e8</td>\n",
       "      <td>d0b61bfb1de832b15ba9d266ca96e5b0</td>\n",
       "      <td>66922902710d126a0e7d26b0e3805106</td>\n",
       "    </tr>\n",
       "    <tr>\n",
       "      <th>4</th>\n",
       "      <td>8ab97904e6daea8866dbdbc4fb7aad2c</td>\n",
       "      <td>ad21c59c0840e6cb83a9ceb5573f8159</td>\n",
       "      <td>e50934924e227544ba8246aeb3770dd4</td>\n",
       "      <td>65266b2da20d04dbe00c5c2d3bb7859e</td>\n",
       "      <td>2c9e548be18521d1c43cde1c582c6de8</td>\n",
       "    </tr>\n",
       "    <tr>\n",
       "      <th>...</th>\n",
       "      <td>...</td>\n",
       "      <td>...</td>\n",
       "      <td>...</td>\n",
       "      <td>...</td>\n",
       "      <td>...</td>\n",
       "    </tr>\n",
       "    <tr>\n",
       "      <th>114095</th>\n",
       "      <td>1fca14ff2861355f6e5f14306ff977a7</td>\n",
       "      <td>63943bddc261676b46f01ca7ac2f7bd8</td>\n",
       "      <td>29bb71b2760d0f876dfa178a76bc4734</td>\n",
       "      <td>f1d4ce8c6dd66c47bbaa8c6781c2a923</td>\n",
       "      <td>1f9ab4708f3056ede07124aad39a2554</td>\n",
       "    </tr>\n",
       "    <tr>\n",
       "      <th>114096</th>\n",
       "      <td>1aa71eb042121263aafbe80c1b562c9c</td>\n",
       "      <td>83c1379a015df1e13d02aae0204711ab</td>\n",
       "      <td>371579771219f6db2d830d50805977bb</td>\n",
       "      <td>b80910977a37536adeddd63663f916ad</td>\n",
       "      <td>d50d79cb34e38265a8649c383dcffd48</td>\n",
       "    </tr>\n",
       "    <tr>\n",
       "      <th>114097</th>\n",
       "      <td>b331b74b18dc79bcdf6532d51e1637c1</td>\n",
       "      <td>11c177c8e97725db2631073c19f07b62</td>\n",
       "      <td>8ab6855b9fe9b812cd03a480a25058a1</td>\n",
       "      <td>d1c427060a0f73f6b889a5c7c61f2ac4</td>\n",
       "      <td>a1043bafd471dff536d0c462352beb48</td>\n",
       "    </tr>\n",
       "    <tr>\n",
       "      <th>114098</th>\n",
       "      <td>b331b74b18dc79bcdf6532d51e1637c1</td>\n",
       "      <td>11c177c8e97725db2631073c19f07b62</td>\n",
       "      <td>8ab6855b9fe9b812cd03a480a25058a1</td>\n",
       "      <td>d1c427060a0f73f6b889a5c7c61f2ac4</td>\n",
       "      <td>a1043bafd471dff536d0c462352beb48</td>\n",
       "    </tr>\n",
       "    <tr>\n",
       "      <th>114099</th>\n",
       "      <td>edb027a75a1449115f6b43211ae02a24</td>\n",
       "      <td>66dea50a8b16d9b4dee7af250b4be1a5</td>\n",
       "      <td>dc9c59b4688062c25758c2be4cafc523</td>\n",
       "      <td>006619bbed68b000c8ba3f8725d5409e</td>\n",
       "      <td>ececbfcff9804a2d6b40f589df8eef2b</td>\n",
       "    </tr>\n",
       "  </tbody>\n",
       "</table>\n",
       "<p>114100 rows × 5 columns</p>\n",
       "</div>"
      ],
      "text/plain": [
       "                             customer_id                          order_id  \\\n",
       "0       9ef432eb6251297304e76186b10a928d  e481f51cbdc54678b7cc49136f2d6af7   \n",
       "1       b0830fb4747a6c6d20dea0b8c802d7ef  53cdb2fc8bc7dce0b6741e2150273451   \n",
       "2       41ce2a54c0b03bf3443c3d931a367089  47770eb9100c2d0c44946d9cf07ec65d   \n",
       "3       f88197465ea7920adcdbec7375364d82  949d5b44dbf5de918fe9c16f97b45f8a   \n",
       "4       8ab97904e6daea8866dbdbc4fb7aad2c  ad21c59c0840e6cb83a9ceb5573f8159   \n",
       "...                                  ...                               ...   \n",
       "114095  1fca14ff2861355f6e5f14306ff977a7  63943bddc261676b46f01ca7ac2f7bd8   \n",
       "114096  1aa71eb042121263aafbe80c1b562c9c  83c1379a015df1e13d02aae0204711ab   \n",
       "114097  b331b74b18dc79bcdf6532d51e1637c1  11c177c8e97725db2631073c19f07b62   \n",
       "114098  b331b74b18dc79bcdf6532d51e1637c1  11c177c8e97725db2631073c19f07b62   \n",
       "114099  edb027a75a1449115f6b43211ae02a24  66dea50a8b16d9b4dee7af250b4be1a5   \n",
       "\n",
       "                               review_id                        product_id  \\\n",
       "0       a54f0611adc9ed256b57ede6b6eb5114  87285b34884572647811a353c7ac498a   \n",
       "1       8d5266042046a06655c8db133d120ba5  595fac2a385ac33a80bd5114aec74eb8   \n",
       "2       e73b67b67587f7644d5bd1a52deb1b01  aa4383b373c6aca5d8797843e5594415   \n",
       "3       359d03e676b3c069f62cadba8dd3f6e8  d0b61bfb1de832b15ba9d266ca96e5b0   \n",
       "4       e50934924e227544ba8246aeb3770dd4  65266b2da20d04dbe00c5c2d3bb7859e   \n",
       "...                                  ...                               ...   \n",
       "114095  29bb71b2760d0f876dfa178a76bc4734  f1d4ce8c6dd66c47bbaa8c6781c2a923   \n",
       "114096  371579771219f6db2d830d50805977bb  b80910977a37536adeddd63663f916ad   \n",
       "114097  8ab6855b9fe9b812cd03a480a25058a1  d1c427060a0f73f6b889a5c7c61f2ac4   \n",
       "114098  8ab6855b9fe9b812cd03a480a25058a1  d1c427060a0f73f6b889a5c7c61f2ac4   \n",
       "114099  dc9c59b4688062c25758c2be4cafc523  006619bbed68b000c8ba3f8725d5409e   \n",
       "\n",
       "                               seller_id  \n",
       "0       3504c0cb71d7fa48d967e0e4c94d59d9  \n",
       "1       289cdb325fb7e7f891c38608bf9e0962  \n",
       "2       4869f7a5dfa277a7dca6462dcf3b52b2  \n",
       "3       66922902710d126a0e7d26b0e3805106  \n",
       "4       2c9e548be18521d1c43cde1c582c6de8  \n",
       "...                                  ...  \n",
       "114095  1f9ab4708f3056ede07124aad39a2554  \n",
       "114096  d50d79cb34e38265a8649c383dcffd48  \n",
       "114097  a1043bafd471dff536d0c462352beb48  \n",
       "114098  a1043bafd471dff536d0c462352beb48  \n",
       "114099  ececbfcff9804a2d6b40f589df8eef2b  \n",
       "\n",
       "[114100 rows x 5 columns]"
      ]
     },
     "execution_count": 33,
     "metadata": {},
     "output_type": "execute_result"
    }
   ],
   "source": [
    "from olist.data import Olist\n",
    "data = Olist().get_matching_table()\n",
    "data"
   ]
  },
  {
   "cell_type": "markdown",
   "id": "95822697-7a9f-4496-853c-f87b9b519723",
   "metadata": {},
   "source": [
    "# Metric Design "
   ]
  },
  {
   "cell_type": "markdown",
   "id": "d906f499-0b15-4f29-9cc6-73ede0f1118d",
   "metadata": {},
   "source": [
    "First glimpse into Olist's business health"
   ]
  },
  {
   "cell_type": "code",
   "execution_count": 34,
   "id": "c1784386-5183-4a1a-a58c-8cb38fdabf70",
   "metadata": {},
   "outputs": [],
   "source": [
    "from olist.data import Olist\n",
    "data = Olist().get_data()"
   ]
  },
  {
   "cell_type": "markdown",
   "id": "1c311d39-613d-4747-8202-6b60d0995eb1",
   "metadata": {},
   "source": [
    "#### Valid reviews"
   ]
  },
  {
   "cell_type": "code",
   "execution_count": 36,
   "id": "a8c06941-c5ee-4532-87e7-14ff1b5e29a0",
   "metadata": {},
   "outputs": [
    {
     "data": {
      "text/plain": [
       "<AxesSubplot:xlabel='review_score', ylabel='count'>"
      ]
     },
     "execution_count": 36,
     "metadata": {},
     "output_type": "execute_result"
    },
    {
     "data": {
      "image/png": "[encoded data removed]",
      "text/plain": [
       "<Figure size 432x288 with 1 Axes>"
      ]
     },
     "metadata": {
      "needs_background": "light"
     },
     "output_type": "display_data"
    }
   ],
   "source": [
    "sns.countplot(x='review_score', data=data['order_reviews'])"
   ]
  },
  {
   "cell_type": "code",
   "execution_count": 41,
   "id": "509013a3-89fd-44d9-802d-e0c1986a56b4",
   "metadata": {},
   "outputs": [
    {
     "name": "stdout",
     "output_type": "stream",
     "text": [
      "Total: 100000\n"
     ]
    }
   ],
   "source": [
    "print('Total:',len(data['order_reviews']['review_score']))\n",
    "# data['order_reviews']['review_score'].count()"
   ]
  },
  {
   "cell_type": "markdown",
   "id": "dd827139-085a-4736-bd6c-673df2997cf5",
   "metadata": {},
   "source": [
    "#### Order Status"
   ]
  },
  {
   "cell_type": "code",
   "execution_count": 44,
   "id": "b2457b6a-2cf2-4843-b6c5-4a8bbb594e7d",
   "metadata": {},
   "outputs": [
    {
     "data": {
      "text/plain": [
       "<AxesSubplot:xlabel='order_status', ylabel='count'>"
      ]
     },
     "execution_count": 44,
     "metadata": {},
     "output_type": "execute_result"
    },
    {
     "data": {
      "image/png": "[encoded data removed]",
      "text/plain": [
       "<Figure size 432x288 with 1 Axes>"
      ]
     },
     "metadata": {
      "needs_background": "light"
     },
     "output_type": "display_data"
    }
   ],
   "source": [
    "sns.countplot(x = 'order_status', data = data['orders'])"
   ]
  },
  {
   "cell_type": "code",
   "execution_count": 45,
   "id": "e95a1237-2392-44f2-b7fc-c0c448750b7e",
   "metadata": {},
   "outputs": [
    {
     "data": {
      "text/plain": [
       "99441"
      ]
     },
     "execution_count": 45,
     "metadata": {},
     "output_type": "execute_result"
    }
   ],
   "source": [
    "len(data['orders'])"
   ]
  },
  {
   "cell_type": "code",
   "execution_count": 49,
   "id": "42435fad-3019-49fe-a9e3-7da0d6066980",
   "metadata": {},
   "outputs": [
    {
     "data": {
      "text/plain": [
       "delivered      96478\n",
       "shipped         1107\n",
       "canceled         625\n",
       "unavailable      609\n",
       "invoiced         314\n",
       "processing       301\n",
       "created            5\n",
       "approved           2\n",
       "Name: order_status, dtype: int64"
      ]
     },
     "execution_count": 49,
     "metadata": {},
     "output_type": "execute_result"
    }
   ],
   "source": [
    "data['orders']['order_status'].value_counts()"
   ]
  },
  {
   "cell_type": "markdown",
   "id": "4bf27697-ef98-4c5e-b629-57de68a9b949",
   "metadata": {},
   "source": [
    "##### Checking if each order has a review"
   ]
  },
  {
   "cell_type": "code",
   "execution_count": 54,
   "id": "c2967235-5668-4382-9aa6-008afce42244",
   "metadata": {},
   "outputs": [
    {
     "data": {
      "text/plain": [
       "0"
      ]
     },
     "execution_count": 54,
     "metadata": {},
     "output_type": "execute_result"
    }
   ],
   "source": [
    "joint = data['orders'].merge(data['order_reviews'], on='order_id', how='outer')\n",
    "joint['review_score'].isna().sum()"
   ]
  },
  {
   "cell_type": "code",
   "execution_count": 55,
   "id": "6df8bf12-80b6-4f52-a776-27fac8ad4afd",
   "metadata": {},
   "outputs": [
    {
     "data": {
      "text/plain": [
       "order_status\n",
       "approved       0\n",
       "canceled       0\n",
       "created        0\n",
       "delivered      0\n",
       "invoiced       0\n",
       "processing     0\n",
       "shipped        0\n",
       "unavailable    0\n",
       "Name: review_score, dtype: int64"
      ]
     },
     "execution_count": 55,
     "metadata": {},
     "output_type": "execute_result"
    }
   ],
   "source": [
    "# Double check :) \n",
    "joint.groupby(['order_status'])['review_score'].apply(lambda s: s.isna().sum())"
   ]
  },
  {
   "cell_type": "markdown",
   "id": "da48844a-4db5-492f-a2f3-6b4473ce81c6",
   "metadata": {},
   "source": [
    "#####  ❗ The Olist dataset seems to have already been filtered to only contain orders with a review. "
   ]
  },
  {
   "cell_type": "markdown",
   "id": "d8c2638a-6da8-4705-bd9d-d3c6d32e6bab",
   "metadata": {},
   "source": [
    "#### 2 - Evolution of key business metrics over the past 14 months"
   ]
  },
  {
   "cell_type": "markdown",
   "id": "a12d2b67-77e7-4f9b-9278-4c40f4b3bb58",
   "metadata": {},
   "source": [
    "Metrics \n",
    "- Which metric would you use as a key business output metric for Olist? \n",
    "- Which metric would you use to measure that a customer had a good experience with Olist? \n",
    "- Which metric would you use to measure shipping delay?\n",
    "- For each metric, plot a trend line over time."
   ]
  },
  {
   "cell_type": "markdown",
   "id": "9e1a46e9-0f8c-4e43-ab5d-a58494e4a623",
   "metadata": {},
   "source": [
    "### Metric 1: Order numbers"
   ]
  },
  {
   "cell_type": "markdown",
   "id": "8bf1f185-5122-4db9-af19-8b44c4c05282",
   "metadata": {},
   "source": [
    "weekly total orders"
   ]
  },
  {
   "cell_type": "code",
   "execution_count": 57,
   "id": "db6823db-aff4-4f95-a6fb-1c304bdaa71e",
   "metadata": {},
   "outputs": [],
   "source": [
    "# Order numbers\n",
    "orders = data['orders'].copy()"
   ]
  },
  {
   "cell_type": "code",
   "execution_count": 57,
   "id": "e0bd176b-c003-4bb4-a03b-31506c81d5c4",
   "metadata": {},
   "outputs": [],
   "source": [
    "# Convert dates to python datetime objects\n",
    "orders['order_purchase_timestamp'] = pd.to_datetime(orders['order_purchase_timestamp'])\n",
    "orders = orders.set_index('order_purchase_timestamp')"
   ]
  },
  {
   "cell_type": "code",
   "execution_count": 58,
   "id": "2cb1efb7-634a-43c6-bae0-f17246f4cb4d",
   "metadata": {},
   "outputs": [
    {
     "data": {
      "text/html": [
       "<div>\n",
       "<style scoped>\n",
       "    .dataframe tbody tr th:only-of-type {\n",
       "        vertical-align: middle;\n",
       "    }\n",
       "\n",
       "    .dataframe tbody tr th {\n",
       "        vertical-align: top;\n",
       "    }\n",
       "\n",
       "    .dataframe thead th {\n",
       "        text-align: right;\n",
       "    }\n",
       "</style>\n",
       "<table border=\"1\" class=\"dataframe\">\n",
       "  <thead>\n",
       "    <tr style=\"text-align: right;\">\n",
       "      <th></th>\n",
       "      <th>order_id</th>\n",
       "      <th>customer_id</th>\n",
       "      <th>order_status</th>\n",
       "      <th>order_approved_at</th>\n",
       "      <th>order_delivered_carrier_date</th>\n",
       "      <th>order_delivered_customer_date</th>\n",
       "      <th>order_estimated_delivery_date</th>\n",
       "    </tr>\n",
       "    <tr>\n",
       "      <th>order_purchase_timestamp</th>\n",
       "      <th></th>\n",
       "      <th></th>\n",
       "      <th></th>\n",
       "      <th></th>\n",
       "      <th></th>\n",
       "      <th></th>\n",
       "      <th></th>\n",
       "    </tr>\n",
       "  </thead>\n",
       "  <tbody>\n",
       "    <tr>\n",
       "      <th>2016-09-04 21:15:19</th>\n",
       "      <td>2e7a8482f6fb09756ca50c10d7bfc047</td>\n",
       "      <td>08c5351a6aca1c1589a38f244edeee9d</td>\n",
       "      <td>shipped</td>\n",
       "      <td>2016-10-07 13:18:03</td>\n",
       "      <td>2016-10-18 13:14:51</td>\n",
       "      <td>NaN</td>\n",
       "      <td>2016-10-20 00:00:00</td>\n",
       "    </tr>\n",
       "    <tr>\n",
       "      <th>2016-09-05 00:15:34</th>\n",
       "      <td>e5fa5a7210941f7d56d0208e4e071d35</td>\n",
       "      <td>683c54fc24d40ee9f8a6fc179fd9856c</td>\n",
       "      <td>canceled</td>\n",
       "      <td>2016-10-07 13:17:15</td>\n",
       "      <td>NaN</td>\n",
       "      <td>NaN</td>\n",
       "      <td>2016-10-28 00:00:00</td>\n",
       "    </tr>\n",
       "    <tr>\n",
       "      <th>2016-09-13 15:24:19</th>\n",
       "      <td>809a282bbd5dbcabb6f2f724fca862ec</td>\n",
       "      <td>622e13439d6b5a0b486c435618b2679e</td>\n",
       "      <td>canceled</td>\n",
       "      <td>2016-10-07 13:16:46</td>\n",
       "      <td>NaN</td>\n",
       "      <td>NaN</td>\n",
       "      <td>2016-09-30 00:00:00</td>\n",
       "    </tr>\n",
       "    <tr>\n",
       "      <th>2016-09-15 12:16:38</th>\n",
       "      <td>bfbd0f9bdef84302105ad712db648a6c</td>\n",
       "      <td>86dc2ffce2dfff336de2f386a786e574</td>\n",
       "      <td>delivered</td>\n",
       "      <td>2016-09-15 12:16:38</td>\n",
       "      <td>2016-11-07 17:11:53</td>\n",
       "      <td>2016-11-09 07:47:38</td>\n",
       "      <td>2016-10-04 00:00:00</td>\n",
       "    </tr>\n",
       "    <tr>\n",
       "      <th>2016-10-02 22:07:52</th>\n",
       "      <td>71303d7e93b399f5bcd537d124c0bcfa</td>\n",
       "      <td>b106b360fe2ef8849fbbd056f777b4d5</td>\n",
       "      <td>canceled</td>\n",
       "      <td>2016-10-06 15:50:56</td>\n",
       "      <td>NaN</td>\n",
       "      <td>NaN</td>\n",
       "      <td>2016-10-25 00:00:00</td>\n",
       "    </tr>\n",
       "    <tr>\n",
       "      <th>...</th>\n",
       "      <td>...</td>\n",
       "      <td>...</td>\n",
       "      <td>...</td>\n",
       "      <td>...</td>\n",
       "      <td>...</td>\n",
       "      <td>...</td>\n",
       "      <td>...</td>\n",
       "    </tr>\n",
       "    <tr>\n",
       "      <th>2018-09-29 09:13:03</th>\n",
       "      <td>392ed9afd714e3c74767d0c4d3e3f477</td>\n",
       "      <td>2823ffda607a2316375088e0d00005ec</td>\n",
       "      <td>canceled</td>\n",
       "      <td>NaN</td>\n",
       "      <td>NaN</td>\n",
       "      <td>NaN</td>\n",
       "      <td>2018-10-15 00:00:00</td>\n",
       "    </tr>\n",
       "    <tr>\n",
       "      <th>2018-10-01 15:30:09</th>\n",
       "      <td>616fa7d4871b87832197b2a137a115d2</td>\n",
       "      <td>bf6181a85bbb4115736c0a8db1a53be3</td>\n",
       "      <td>canceled</td>\n",
       "      <td>NaN</td>\n",
       "      <td>NaN</td>\n",
       "      <td>NaN</td>\n",
       "      <td>2018-10-23 00:00:00</td>\n",
       "    </tr>\n",
       "    <tr>\n",
       "      <th>2018-10-03 18:55:29</th>\n",
       "      <td>a2ac6dad85cf8af5b0afb510a240fe8c</td>\n",
       "      <td>4c2ec60c29d10c34bd49cb88aa85cfc4</td>\n",
       "      <td>canceled</td>\n",
       "      <td>NaN</td>\n",
       "      <td>NaN</td>\n",
       "      <td>NaN</td>\n",
       "      <td>2018-10-16 00:00:00</td>\n",
       "    </tr>\n",
       "    <tr>\n",
       "      <th>2018-10-16 20:16:02</th>\n",
       "      <td>b059ee4de278302d550a3035c4cdb740</td>\n",
       "      <td>856336203359aa6a61bf3826f7d84c49</td>\n",
       "      <td>canceled</td>\n",
       "      <td>NaN</td>\n",
       "      <td>NaN</td>\n",
       "      <td>NaN</td>\n",
       "      <td>2018-11-12 00:00:00</td>\n",
       "    </tr>\n",
       "    <tr>\n",
       "      <th>2018-10-17 17:30:18</th>\n",
       "      <td>10a045cdf6a5650c21e9cfeb60384c16</td>\n",
       "      <td>a4b417188addbc05b26b72d5e44837a1</td>\n",
       "      <td>canceled</td>\n",
       "      <td>NaN</td>\n",
       "      <td>NaN</td>\n",
       "      <td>NaN</td>\n",
       "      <td>2018-10-30 00:00:00</td>\n",
       "    </tr>\n",
       "  </tbody>\n",
       "</table>\n",
       "<p>99441 rows × 7 columns</p>\n",
       "</div>"
      ],
      "text/plain": [
       "                                                  order_id  \\\n",
       "order_purchase_timestamp                                     \n",
       "2016-09-04 21:15:19       2e7a8482f6fb09756ca50c10d7bfc047   \n",
       "2016-09-05 00:15:34       e5fa5a7210941f7d56d0208e4e071d35   \n",
       "2016-09-13 15:24:19       809a282bbd5dbcabb6f2f724fca862ec   \n",
       "2016-09-15 12:16:38       bfbd0f9bdef84302105ad712db648a6c   \n",
       "2016-10-02 22:07:52       71303d7e93b399f5bcd537d124c0bcfa   \n",
       "...                                                    ...   \n",
       "2018-09-29 09:13:03       392ed9afd714e3c74767d0c4d3e3f477   \n",
       "2018-10-01 15:30:09       616fa7d4871b87832197b2a137a115d2   \n",
       "2018-10-03 18:55:29       a2ac6dad85cf8af5b0afb510a240fe8c   \n",
       "2018-10-16 20:16:02       b059ee4de278302d550a3035c4cdb740   \n",
       "2018-10-17 17:30:18       10a045cdf6a5650c21e9cfeb60384c16   \n",
       "\n",
       "                                               customer_id order_status  \\\n",
       "order_purchase_timestamp                                                  \n",
       "2016-09-04 21:15:19       08c5351a6aca1c1589a38f244edeee9d      shipped   \n",
       "2016-09-05 00:15:34       683c54fc24d40ee9f8a6fc179fd9856c     canceled   \n",
       "2016-09-13 15:24:19       622e13439d6b5a0b486c435618b2679e     canceled   \n",
       "2016-09-15 12:16:38       86dc2ffce2dfff336de2f386a786e574    delivered   \n",
       "2016-10-02 22:07:52       b106b360fe2ef8849fbbd056f777b4d5     canceled   \n",
       "...                                                    ...          ...   \n",
       "2018-09-29 09:13:03       2823ffda607a2316375088e0d00005ec     canceled   \n",
       "2018-10-01 15:30:09       bf6181a85bbb4115736c0a8db1a53be3     canceled   \n",
       "2018-10-03 18:55:29       4c2ec60c29d10c34bd49cb88aa85cfc4     canceled   \n",
       "2018-10-16 20:16:02       856336203359aa6a61bf3826f7d84c49     canceled   \n",
       "2018-10-17 17:30:18       a4b417188addbc05b26b72d5e44837a1     canceled   \n",
       "\n",
       "                            order_approved_at order_delivered_carrier_date  \\\n",
       "order_purchase_timestamp                                                     \n",
       "2016-09-04 21:15:19       2016-10-07 13:18:03          2016-10-18 13:14:51   \n",
       "2016-09-05 00:15:34       2016-10-07 13:17:15                          NaN   \n",
       "2016-09-13 15:24:19       2016-10-07 13:16:46                          NaN   \n",
       "2016-09-15 12:16:38       2016-09-15 12:16:38          2016-11-07 17:11:53   \n",
       "2016-10-02 22:07:52       2016-10-06 15:50:56                          NaN   \n",
       "...                                       ...                          ...   \n",
       "2018-09-29 09:13:03                       NaN                          NaN   \n",
       "2018-10-01 15:30:09                       NaN                          NaN   \n",
       "2018-10-03 18:55:29                       NaN                          NaN   \n",
       "2018-10-16 20:16:02                       NaN                          NaN   \n",
       "2018-10-17 17:30:18                       NaN                          NaN   \n",
       "\n",
       "                         order_delivered_customer_date  \\\n",
       "order_purchase_timestamp                                 \n",
       "2016-09-04 21:15:19                                NaN   \n",
       "2016-09-05 00:15:34                                NaN   \n",
       "2016-09-13 15:24:19                                NaN   \n",
       "2016-09-15 12:16:38                2016-11-09 07:47:38   \n",
       "2016-10-02 22:07:52                                NaN   \n",
       "...                                                ...   \n",
       "2018-09-29 09:13:03                                NaN   \n",
       "2018-10-01 15:30:09                                NaN   \n",
       "2018-10-03 18:55:29                                NaN   \n",
       "2018-10-16 20:16:02                                NaN   \n",
       "2018-10-17 17:30:18                                NaN   \n",
       "\n",
       "                         order_estimated_delivery_date  \n",
       "order_purchase_timestamp                                \n",
       "2016-09-04 21:15:19                2016-10-20 00:00:00  \n",
       "2016-09-05 00:15:34                2016-10-28 00:00:00  \n",
       "2016-09-13 15:24:19                2016-09-30 00:00:00  \n",
       "2016-09-15 12:16:38                2016-10-04 00:00:00  \n",
       "2016-10-02 22:07:52                2016-10-25 00:00:00  \n",
       "...                                                ...  \n",
       "2018-09-29 09:13:03                2018-10-15 00:00:00  \n",
       "2018-10-01 15:30:09                2018-10-23 00:00:00  \n",
       "2018-10-03 18:55:29                2018-10-16 00:00:00  \n",
       "2018-10-16 20:16:02                2018-11-12 00:00:00  \n",
       "2018-10-17 17:30:18                2018-10-30 00:00:00  \n",
       "\n",
       "[99441 rows x 7 columns]"
      ]
     },
     "execution_count": 58,
     "metadata": {},
     "output_type": "execute_result"
    }
   ],
   "source": [
    "orders.sort_index()"
   ]
  },
  {
   "cell_type": "markdown",
   "id": "10c29693-a424-4376-84f7-863980fe08f4",
   "metadata": {},
   "source": [
    "##### Monthly orders purchased"
   ]
  },
  {
   "cell_type": "code",
   "execution_count": 61,
   "id": "071c989b-4a74-4540-b31f-d695469560df",
   "metadata": {},
   "outputs": [
    {
     "data": {
      "text/plain": [
       "Text(0.5, 1.0, 'weekly orders (total)')"
      ]
     },
     "execution_count": 61,
     "metadata": {},
     "output_type": "execute_result"
    },
    {
     "data": {
      "image/png": "[encoded data removed]",
      "text/plain": [
       "<Figure size 432x288 with 1 Axes>"
      ]
     },
     "metadata": {
      "needs_background": "light"
     },
     "output_type": "display_data"
    }
   ],
   "source": [
    "orders.resample('W')['order_id'].count().plot(color='g')\n",
    "plt.title('weekly orders (total)')"
   ]
  },
  {
   "cell_type": "code",
   "execution_count": 63,
   "id": "b6b3844c-c791-4fef-82c8-8467fffbb631",
   "metadata": {},
   "outputs": [
    {
     "data": {
      "text/plain": [
       "Text(0.5, 1.0, 'weekly non-delivered orders')"
      ]
     },
     "execution_count": 63,
     "metadata": {},
     "output_type": "execute_result"
    },
    {
     "data": {
      "image/png": "[encoded data removed]",
      "text/plain": [
       "<Figure size 432x288 with 1 Axes>"
      ]
     },
     "metadata": {
      "needs_background": "light"
     },
     "output_type": "display_data"
    }
   ],
   "source": [
    "orders.query(\"order_status != 'delivered'\").sort_index().loc['2017-02-01':].resample('W')['order_id'].count().plot(color='r')\n",
    "plt.title('weekly non-delivered orders')"
   ]
  },
  {
   "cell_type": "code",
   "execution_count": null,
   "id": "d5643f74-16bf-4ce8-9899-02f0436eb596",
   "metadata": {},
   "outputs": [],
   "source": []
  }
 ],
 "metadata": {
  "kernelspec": {
   "display_name": "Python 3",
   "language": "python",
   "name": "python3"
  },
  "language_info": {
   "codemirror_mode": {
    "name": "ipython",
    "version": 3
   },
   "file_extension": ".py",
   "mimetype": "text/x-python",
   "name": "python",
   "nbconvert_exporter": "python",
   "pygments_lexer": "ipython3",
   "version": "3.8.6"
  },
  "toc": {
   "base_numbering": 1,
   "nav_menu": {},
   "number_sections": true,
   "sideBar": true,
   "skip_h1_title": false,
   "title_cell": "Table of Contents",
   "title_sidebar": "Contents",
   "toc_cell": false,
   "toc_position": {},
   "toc_section_display": true,
   "toc_window_display": false
  }
 },
 "nbformat": 4,
 "nbformat_minor": 5
}
